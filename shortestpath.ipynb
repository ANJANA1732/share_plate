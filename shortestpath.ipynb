{
  "nbformat": 4,
  "nbformat_minor": 0,
  "metadata": {
    "colab": {
      "provenance": [],
      "include_colab_link": true
    },
    "kernelspec": {
      "name": "python3",
      "display_name": "Python 3"
    },
    "language_info": {
      "name": "python"
    }
  },
  "cells": [
    {
      "cell_type": "markdown",
      "metadata": {
        "id": "view-in-github",
        "colab_type": "text"
      },
      "source": [
        "<a href=\"https://colab.research.google.com/github/ANJANA1732/share_plate/blob/main/shortestpath.ipynb\" target=\"_parent\"><img src=\"https://colab.research.google.com/assets/colab-badge.svg\" alt=\"Open In Colab\"/></a>"
      ]
    },
    {
      "cell_type": "code",
      "execution_count": null,
      "metadata": {
        "colab": {
          "base_uri": "https://localhost:8080/"
        },
        "id": "dWQsHylBveph",
        "outputId": "fa9f97d5-1255-4b6b-b5ac-b9dda57b92d8"
      },
      "outputs": [
        {
          "output_type": "stream",
          "name": "stdout",
          "text": [
            "{'Hotel_A': 3, 'Hotel_B': 2, 'Hotel_C': 3}\n"
          ]
        }
      ],
      "source": [
        "import heapq\n",
        "\n",
        "def dijkstra(graph, start):\n",
        "\n",
        "    distances = {node: float('inf') for node in graph}\n",
        "    distances[start] = 0\n",
        "\n",
        "\n",
        "    pq = [(0, start)]\n",
        "\n",
        "    while pq:\n",
        "\n",
        "        current_distance, current_node = heapq.heappop(pq)\n",
        "\n",
        "        if current_distance > distances[current_node]:\n",
        "            continue\n",
        "\n",
        "\n",
        "        for neighbor, weight in graph[current_node].items():\n",
        "            distance = current_distance + weight\n",
        "\n",
        "\n",
        "            if distance < distances[neighbor]:\n",
        "                distances[neighbor] = distance\n",
        "                heapq.heappush(pq, (distance, neighbor))\n",
        "\n",
        "    return distances\n",
        "\n",
        "\n",
        "graph = {\n",
        "    'Hotel_A': {'Community_1': 3, 'Community_2': 5},\n",
        "    'Hotel_B': {'Community_1': 4, 'Community_3': 2},\n",
        "    'Hotel_C': {'Community_2': 6, 'Community_3': 3},\n",
        "    'Community_1': {'Hotel_A': 3, 'Hotel_B': 4},\n",
        "    'Community_2': {'Hotel_A': 5, 'Hotel_C': 6},\n",
        "    'Community_3': {'Hotel_B': 2, 'Hotel_C': 3}\n",
        "}\n",
        "\n",
        "\n",
        "hotel_community_distances = {}\n",
        "for hotel in graph:\n",
        "    if hotel.startswith('Hotel'):\n",
        "        hotel_community_distances[hotel] = {}\n",
        "        for community in graph:\n",
        "            if community.startswith('Community'):\n",
        "                shortest_paths = dijkstra(graph, hotel)\n",
        "                hotel_community_distances[hotel][community] = shortest_paths[community]\n",
        "\n",
        "\n",
        "shortest_hotel_community_distances = {}\n",
        "for hotel in hotel_community_distances:\n",
        "    shortest_hotel_community_distances[hotel] = min(hotel_community_distances[hotel].values())\n",
        "\n",
        "print(shortest_hotel_community_distances)\n",
        "\n"
      ]
    }
  ]
}